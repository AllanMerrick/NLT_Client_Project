{
 "cells": [
  {
   "cell_type": "code",
   "execution_count": 2,
   "metadata": {},
   "outputs": [],
   "source": [
    "import pandas as pd\n",
    "import numpy as np\n",
    "import json \n",
    "import matplotlib.pyplot as plt\n",
    "import seaborn as sns"
   ]
  },
  {
   "cell_type": "code",
   "execution_count": 3,
   "metadata": {},
   "outputs": [
    {
     "data": {
      "text/html": [
       "<div>\n",
       "<style scoped>\n",
       "    .dataframe tbody tr th:only-of-type {\n",
       "        vertical-align: middle;\n",
       "    }\n",
       "\n",
       "    .dataframe tbody tr th {\n",
       "        vertical-align: top;\n",
       "    }\n",
       "\n",
       "    .dataframe thead th {\n",
       "        text-align: right;\n",
       "    }\n",
       "</style>\n",
       "<table border=\"1\" class=\"dataframe\">\n",
       "  <thead>\n",
       "    <tr style=\"text-align: right;\">\n",
       "      <th></th>\n",
       "      <th>disasterNumber</th>\n",
       "      <th>ihProgramDeclared</th>\n",
       "      <th>iaProgramDeclared</th>\n",
       "      <th>paProgramDeclared</th>\n",
       "      <th>hmProgramDeclared</th>\n",
       "      <th>state</th>\n",
       "      <th>declarationDate</th>\n",
       "      <th>fyDeclared</th>\n",
       "      <th>disasterType</th>\n",
       "      <th>incidentType</th>\n",
       "      <th>title</th>\n",
       "      <th>incidentBeginDate</th>\n",
       "      <th>incidentEndDate</th>\n",
       "      <th>disasterCloseOutDate</th>\n",
       "      <th>declaredCountyArea</th>\n",
       "      <th>placeCode</th>\n",
       "      <th>hash</th>\n",
       "      <th>lastRefresh</th>\n",
       "      <th>id</th>\n",
       "    </tr>\n",
       "  </thead>\n",
       "  <tbody>\n",
       "    <tr>\n",
       "      <td>0</td>\n",
       "      <td>1</td>\n",
       "      <td>0</td>\n",
       "      <td>1</td>\n",
       "      <td>1</td>\n",
       "      <td>1</td>\n",
       "      <td>GA</td>\n",
       "      <td>1953-05-02T00:00:00.000Z</td>\n",
       "      <td>1953</td>\n",
       "      <td>DR</td>\n",
       "      <td>Tornado</td>\n",
       "      <td>TORNADO</td>\n",
       "      <td>1953-05-02T00:00:00.000Z</td>\n",
       "      <td>1953-05-02T00:00:00.000Z</td>\n",
       "      <td>1954-06-01T00:00:00.000Z</td>\n",
       "      <td>NaN</td>\n",
       "      <td>NaN</td>\n",
       "      <td>1dcb40d0664d22d39de787b706b0fa69</td>\n",
       "      <td>2019-07-26T18:08:57.368Z</td>\n",
       "      <td>5d1bbd8c8bdcfa6efb32fd8d</td>\n",
       "    </tr>\n",
       "    <tr>\n",
       "      <td>1</td>\n",
       "      <td>2</td>\n",
       "      <td>0</td>\n",
       "      <td>1</td>\n",
       "      <td>1</td>\n",
       "      <td>1</td>\n",
       "      <td>TX</td>\n",
       "      <td>1953-05-15T00:00:00.000Z</td>\n",
       "      <td>1953</td>\n",
       "      <td>DR</td>\n",
       "      <td>Tornado</td>\n",
       "      <td>TORNADO &amp; HEAVY RAINFALL</td>\n",
       "      <td>1953-05-15T00:00:00.000Z</td>\n",
       "      <td>1953-05-15T00:00:00.000Z</td>\n",
       "      <td>1958-01-01T00:00:00.000Z</td>\n",
       "      <td>NaN</td>\n",
       "      <td>NaN</td>\n",
       "      <td>61612cea5779e361b429799098974b6a</td>\n",
       "      <td>2019-07-26T18:08:57.370Z</td>\n",
       "      <td>5d1bbd8c8bdcfa6efb32fd8e</td>\n",
       "    </tr>\n",
       "  </tbody>\n",
       "</table>\n",
       "</div>"
      ],
      "text/plain": [
       "   disasterNumber  ihProgramDeclared  iaProgramDeclared  paProgramDeclared  \\\n",
       "0               1                  0                  1                  1   \n",
       "1               2                  0                  1                  1   \n",
       "\n",
       "   hmProgramDeclared state           declarationDate  fyDeclared disasterType  \\\n",
       "0                  1    GA  1953-05-02T00:00:00.000Z        1953           DR   \n",
       "1                  1    TX  1953-05-15T00:00:00.000Z        1953           DR   \n",
       "\n",
       "  incidentType                     title         incidentBeginDate  \\\n",
       "0      Tornado                   TORNADO  1953-05-02T00:00:00.000Z   \n",
       "1      Tornado  TORNADO & HEAVY RAINFALL  1953-05-15T00:00:00.000Z   \n",
       "\n",
       "            incidentEndDate      disasterCloseOutDate declaredCountyArea  \\\n",
       "0  1953-05-02T00:00:00.000Z  1954-06-01T00:00:00.000Z                NaN   \n",
       "1  1953-05-15T00:00:00.000Z  1958-01-01T00:00:00.000Z                NaN   \n",
       "\n",
       "   placeCode                              hash               lastRefresh  \\\n",
       "0        NaN  1dcb40d0664d22d39de787b706b0fa69  2019-07-26T18:08:57.368Z   \n",
       "1        NaN  61612cea5779e361b429799098974b6a  2019-07-26T18:08:57.370Z   \n",
       "\n",
       "                         id  \n",
       "0  5d1bbd8c8bdcfa6efb32fd8d  \n",
       "1  5d1bbd8c8bdcfa6efb32fd8e  "
      ]
     },
     "execution_count": 3,
     "metadata": {},
     "output_type": "execute_result"
    }
   ],
   "source": [
    "df = pd.read_csv('./DisasterDeclarationsSummaries.csv')\n",
    "df.head(2)"
   ]
  },
  {
   "cell_type": "code",
   "execution_count": 4,
   "metadata": {},
   "outputs": [
    {
     "data": {
      "text/plain": [
       "(58771, 19)"
      ]
     },
     "execution_count": 4,
     "metadata": {},
     "output_type": "execute_result"
    }
   ],
   "source": [
    "df.shape"
   ]
  },
  {
   "cell_type": "code",
   "execution_count": 5,
   "metadata": {},
   "outputs": [
    {
     "data": {
      "text/plain": [
       "Index(['disasterNumber', 'ihProgramDeclared', 'iaProgramDeclared',\n",
       "       'paProgramDeclared', 'hmProgramDeclared', 'state', 'declarationDate',\n",
       "       'fyDeclared', 'disasterType', 'incidentType', 'title',\n",
       "       'incidentBeginDate', 'incidentEndDate', 'disasterCloseOutDate',\n",
       "       'declaredCountyArea', 'placeCode', 'hash', 'lastRefresh', 'id'],\n",
       "      dtype='object')"
      ]
     },
     "execution_count": 5,
     "metadata": {},
     "output_type": "execute_result"
    }
   ],
   "source": [
    "df.columns "
   ]
  },
  {
   "cell_type": "code",
   "execution_count": 6,
   "metadata": {},
   "outputs": [
    {
     "data": {
      "text/plain": [
       "disasterNumber              0\n",
       "ihProgramDeclared           0\n",
       "iaProgramDeclared           0\n",
       "paProgramDeclared           0\n",
       "hmProgramDeclared           0\n",
       "state                       0\n",
       "declarationDate             0\n",
       "fyDeclared                  0\n",
       "disasterType                0\n",
       "incidentType                0\n",
       "title                       0\n",
       "incidentBeginDate           0\n",
       "incidentEndDate          8033\n",
       "disasterCloseOutDate    16585\n",
       "declaredCountyArea        235\n",
       "placeCode                 235\n",
       "hash                       73\n",
       "lastRefresh                73\n",
       "id                          0\n",
       "dtype: int64"
      ]
     },
     "execution_count": 6,
     "metadata": {},
     "output_type": "execute_result"
    }
   ],
   "source": [
    "df.isnull().sum()"
   ]
  },
  {
   "cell_type": "markdown",
   "metadata": {},
   "source": [
    "### dropping columns with null values in datata I "
   ]
  },
  {
   "cell_type": "code",
   "execution_count": 7,
   "metadata": {},
   "outputs": [],
   "source": [
    "df.dropna(axis = 1,inplace = True)"
   ]
  },
  {
   "cell_type": "code",
   "execution_count": 8,
   "metadata": {},
   "outputs": [
    {
     "data": {
      "text/plain": [
       "disasterNumber       0\n",
       "ihProgramDeclared    0\n",
       "iaProgramDeclared    0\n",
       "paProgramDeclared    0\n",
       "hmProgramDeclared    0\n",
       "state                0\n",
       "declarationDate      0\n",
       "fyDeclared           0\n",
       "disasterType         0\n",
       "incidentType         0\n",
       "title                0\n",
       "incidentBeginDate    0\n",
       "id                   0\n",
       "dtype: int64"
      ]
     },
     "execution_count": 8,
     "metadata": {},
     "output_type": "execute_result"
    }
   ],
   "source": [
    "df.isnull().sum()"
   ]
  },
  {
   "cell_type": "code",
   "execution_count": 9,
   "metadata": {},
   "outputs": [
    {
     "data": {
      "text/html": [
       "<div>\n",
       "<style scoped>\n",
       "    .dataframe tbody tr th:only-of-type {\n",
       "        vertical-align: middle;\n",
       "    }\n",
       "\n",
       "    .dataframe tbody tr th {\n",
       "        vertical-align: top;\n",
       "    }\n",
       "\n",
       "    .dataframe thead th {\n",
       "        text-align: right;\n",
       "    }\n",
       "</style>\n",
       "<table border=\"1\" class=\"dataframe\">\n",
       "  <thead>\n",
       "    <tr style=\"text-align: right;\">\n",
       "      <th></th>\n",
       "      <th>disasterNumber</th>\n",
       "      <th>ihProgramDeclared</th>\n",
       "      <th>iaProgramDeclared</th>\n",
       "      <th>paProgramDeclared</th>\n",
       "      <th>hmProgramDeclared</th>\n",
       "      <th>state</th>\n",
       "      <th>declarationDate</th>\n",
       "      <th>fyDeclared</th>\n",
       "      <th>disasterType</th>\n",
       "      <th>incidentType</th>\n",
       "      <th>title</th>\n",
       "      <th>incidentBeginDate</th>\n",
       "      <th>id</th>\n",
       "    </tr>\n",
       "  </thead>\n",
       "  <tbody>\n",
       "    <tr>\n",
       "      <td>0</td>\n",
       "      <td>1</td>\n",
       "      <td>0</td>\n",
       "      <td>1</td>\n",
       "      <td>1</td>\n",
       "      <td>1</td>\n",
       "      <td>GA</td>\n",
       "      <td>1953-05-02T00:00:00.000Z</td>\n",
       "      <td>1953</td>\n",
       "      <td>DR</td>\n",
       "      <td>Tornado</td>\n",
       "      <td>TORNADO</td>\n",
       "      <td>1953-05-02T00:00:00.000Z</td>\n",
       "      <td>5d1bbd8c8bdcfa6efb32fd8d</td>\n",
       "    </tr>\n",
       "    <tr>\n",
       "      <td>1</td>\n",
       "      <td>2</td>\n",
       "      <td>0</td>\n",
       "      <td>1</td>\n",
       "      <td>1</td>\n",
       "      <td>1</td>\n",
       "      <td>TX</td>\n",
       "      <td>1953-05-15T00:00:00.000Z</td>\n",
       "      <td>1953</td>\n",
       "      <td>DR</td>\n",
       "      <td>Tornado</td>\n",
       "      <td>TORNADO &amp; HEAVY RAINFALL</td>\n",
       "      <td>1953-05-15T00:00:00.000Z</td>\n",
       "      <td>5d1bbd8c8bdcfa6efb32fd8e</td>\n",
       "    </tr>\n",
       "    <tr>\n",
       "      <td>2</td>\n",
       "      <td>3</td>\n",
       "      <td>0</td>\n",
       "      <td>1</td>\n",
       "      <td>1</td>\n",
       "      <td>1</td>\n",
       "      <td>LA</td>\n",
       "      <td>1953-05-29T00:00:00.000Z</td>\n",
       "      <td>1953</td>\n",
       "      <td>DR</td>\n",
       "      <td>Flood</td>\n",
       "      <td>FLOOD</td>\n",
       "      <td>1953-05-29T00:00:00.000Z</td>\n",
       "      <td>5d1bbd8c8bdcfa6efb32fd8f</td>\n",
       "    </tr>\n",
       "    <tr>\n",
       "      <td>3</td>\n",
       "      <td>6</td>\n",
       "      <td>0</td>\n",
       "      <td>1</td>\n",
       "      <td>1</td>\n",
       "      <td>1</td>\n",
       "      <td>MI</td>\n",
       "      <td>1953-06-09T00:00:00.000Z</td>\n",
       "      <td>1953</td>\n",
       "      <td>DR</td>\n",
       "      <td>Tornado</td>\n",
       "      <td>TORNADO</td>\n",
       "      <td>1953-06-09T00:00:00.000Z</td>\n",
       "      <td>5d1bbd8c8bdcfa6efb32fd92</td>\n",
       "    </tr>\n",
       "    <tr>\n",
       "      <td>4</td>\n",
       "      <td>4</td>\n",
       "      <td>0</td>\n",
       "      <td>1</td>\n",
       "      <td>1</td>\n",
       "      <td>1</td>\n",
       "      <td>MI</td>\n",
       "      <td>1953-06-02T00:00:00.000Z</td>\n",
       "      <td>1953</td>\n",
       "      <td>DR</td>\n",
       "      <td>Tornado</td>\n",
       "      <td>TORNADO</td>\n",
       "      <td>1953-06-02T00:00:00.000Z</td>\n",
       "      <td>5d1bbd8c8bdcfa6efb32fd91</td>\n",
       "    </tr>\n",
       "    <tr>\n",
       "      <td>...</td>\n",
       "      <td>...</td>\n",
       "      <td>...</td>\n",
       "      <td>...</td>\n",
       "      <td>...</td>\n",
       "      <td>...</td>\n",
       "      <td>...</td>\n",
       "      <td>...</td>\n",
       "      <td>...</td>\n",
       "      <td>...</td>\n",
       "      <td>...</td>\n",
       "      <td>...</td>\n",
       "      <td>...</td>\n",
       "      <td>...</td>\n",
       "    </tr>\n",
       "    <tr>\n",
       "      <td>58766</td>\n",
       "      <td>4542</td>\n",
       "      <td>1</td>\n",
       "      <td>0</td>\n",
       "      <td>1</td>\n",
       "      <td>1</td>\n",
       "      <td>SC</td>\n",
       "      <td>2020-05-01T21:25:00.000Z</td>\n",
       "      <td>2020</td>\n",
       "      <td>DR</td>\n",
       "      <td>Severe Storm(s)</td>\n",
       "      <td>SEVERE STORMS, TORNADOES, AND STRAIGHT-LINE WINDS</td>\n",
       "      <td>2020-04-12T05:59:00.000Z</td>\n",
       "      <td>5eacd45ed7f69950eb8d5af4</td>\n",
       "    </tr>\n",
       "    <tr>\n",
       "      <td>58767</td>\n",
       "      <td>4542</td>\n",
       "      <td>1</td>\n",
       "      <td>0</td>\n",
       "      <td>0</td>\n",
       "      <td>1</td>\n",
       "      <td>SC</td>\n",
       "      <td>2020-05-01T21:25:00.000Z</td>\n",
       "      <td>2020</td>\n",
       "      <td>DR</td>\n",
       "      <td>Severe Storm(s)</td>\n",
       "      <td>SEVERE STORMS, TORNADOES, AND STRAIGHT-LINE WINDS</td>\n",
       "      <td>2020-04-12T05:59:00.000Z</td>\n",
       "      <td>5eacd45ed7f69950eb8d5af5</td>\n",
       "    </tr>\n",
       "    <tr>\n",
       "      <td>58768</td>\n",
       "      <td>4542</td>\n",
       "      <td>1</td>\n",
       "      <td>0</td>\n",
       "      <td>1</td>\n",
       "      <td>1</td>\n",
       "      <td>SC</td>\n",
       "      <td>2020-05-01T21:25:00.000Z</td>\n",
       "      <td>2020</td>\n",
       "      <td>DR</td>\n",
       "      <td>Severe Storm(s)</td>\n",
       "      <td>SEVERE STORMS, TORNADOES, AND STRAIGHT-LINE WINDS</td>\n",
       "      <td>2020-04-12T05:59:00.000Z</td>\n",
       "      <td>5eacd45ed7f69950eb8d5af6</td>\n",
       "    </tr>\n",
       "    <tr>\n",
       "      <td>58769</td>\n",
       "      <td>4542</td>\n",
       "      <td>1</td>\n",
       "      <td>0</td>\n",
       "      <td>1</td>\n",
       "      <td>1</td>\n",
       "      <td>SC</td>\n",
       "      <td>2020-05-01T21:25:00.000Z</td>\n",
       "      <td>2020</td>\n",
       "      <td>DR</td>\n",
       "      <td>Severe Storm(s)</td>\n",
       "      <td>SEVERE STORMS, TORNADOES, AND STRAIGHT-LINE WINDS</td>\n",
       "      <td>2020-04-12T05:59:00.000Z</td>\n",
       "      <td>5eacd45ed7f69950eb8d5af7</td>\n",
       "    </tr>\n",
       "    <tr>\n",
       "      <td>58770</td>\n",
       "      <td>4542</td>\n",
       "      <td>1</td>\n",
       "      <td>0</td>\n",
       "      <td>1</td>\n",
       "      <td>1</td>\n",
       "      <td>SC</td>\n",
       "      <td>2020-05-01T21:25:00.000Z</td>\n",
       "      <td>2020</td>\n",
       "      <td>DR</td>\n",
       "      <td>Severe Storm(s)</td>\n",
       "      <td>SEVERE STORMS, TORNADOES, AND STRAIGHT-LINE WINDS</td>\n",
       "      <td>2020-04-12T05:59:00.000Z</td>\n",
       "      <td>5eacd45ed7f69950eb8d5af8</td>\n",
       "    </tr>\n",
       "  </tbody>\n",
       "</table>\n",
       "<p>58771 rows × 13 columns</p>\n",
       "</div>"
      ],
      "text/plain": [
       "       disasterNumber  ihProgramDeclared  iaProgramDeclared  \\\n",
       "0                   1                  0                  1   \n",
       "1                   2                  0                  1   \n",
       "2                   3                  0                  1   \n",
       "3                   6                  0                  1   \n",
       "4                   4                  0                  1   \n",
       "...               ...                ...                ...   \n",
       "58766            4542                  1                  0   \n",
       "58767            4542                  1                  0   \n",
       "58768            4542                  1                  0   \n",
       "58769            4542                  1                  0   \n",
       "58770            4542                  1                  0   \n",
       "\n",
       "       paProgramDeclared  hmProgramDeclared state           declarationDate  \\\n",
       "0                      1                  1    GA  1953-05-02T00:00:00.000Z   \n",
       "1                      1                  1    TX  1953-05-15T00:00:00.000Z   \n",
       "2                      1                  1    LA  1953-05-29T00:00:00.000Z   \n",
       "3                      1                  1    MI  1953-06-09T00:00:00.000Z   \n",
       "4                      1                  1    MI  1953-06-02T00:00:00.000Z   \n",
       "...                  ...                ...   ...                       ...   \n",
       "58766                  1                  1    SC  2020-05-01T21:25:00.000Z   \n",
       "58767                  0                  1    SC  2020-05-01T21:25:00.000Z   \n",
       "58768                  1                  1    SC  2020-05-01T21:25:00.000Z   \n",
       "58769                  1                  1    SC  2020-05-01T21:25:00.000Z   \n",
       "58770                  1                  1    SC  2020-05-01T21:25:00.000Z   \n",
       "\n",
       "       fyDeclared disasterType     incidentType  \\\n",
       "0            1953           DR          Tornado   \n",
       "1            1953           DR          Tornado   \n",
       "2            1953           DR            Flood   \n",
       "3            1953           DR          Tornado   \n",
       "4            1953           DR          Tornado   \n",
       "...           ...          ...              ...   \n",
       "58766        2020           DR  Severe Storm(s)   \n",
       "58767        2020           DR  Severe Storm(s)   \n",
       "58768        2020           DR  Severe Storm(s)   \n",
       "58769        2020           DR  Severe Storm(s)   \n",
       "58770        2020           DR  Severe Storm(s)   \n",
       "\n",
       "                                                   title  \\\n",
       "0                                                TORNADO   \n",
       "1                               TORNADO & HEAVY RAINFALL   \n",
       "2                                                  FLOOD   \n",
       "3                                                TORNADO   \n",
       "4                                                TORNADO   \n",
       "...                                                  ...   \n",
       "58766  SEVERE STORMS, TORNADOES, AND STRAIGHT-LINE WINDS   \n",
       "58767  SEVERE STORMS, TORNADOES, AND STRAIGHT-LINE WINDS   \n",
       "58768  SEVERE STORMS, TORNADOES, AND STRAIGHT-LINE WINDS   \n",
       "58769  SEVERE STORMS, TORNADOES, AND STRAIGHT-LINE WINDS   \n",
       "58770  SEVERE STORMS, TORNADOES, AND STRAIGHT-LINE WINDS   \n",
       "\n",
       "              incidentBeginDate                        id  \n",
       "0      1953-05-02T00:00:00.000Z  5d1bbd8c8bdcfa6efb32fd8d  \n",
       "1      1953-05-15T00:00:00.000Z  5d1bbd8c8bdcfa6efb32fd8e  \n",
       "2      1953-05-29T00:00:00.000Z  5d1bbd8c8bdcfa6efb32fd8f  \n",
       "3      1953-06-09T00:00:00.000Z  5d1bbd8c8bdcfa6efb32fd92  \n",
       "4      1953-06-02T00:00:00.000Z  5d1bbd8c8bdcfa6efb32fd91  \n",
       "...                         ...                       ...  \n",
       "58766  2020-04-12T05:59:00.000Z  5eacd45ed7f69950eb8d5af4  \n",
       "58767  2020-04-12T05:59:00.000Z  5eacd45ed7f69950eb8d5af5  \n",
       "58768  2020-04-12T05:59:00.000Z  5eacd45ed7f69950eb8d5af6  \n",
       "58769  2020-04-12T05:59:00.000Z  5eacd45ed7f69950eb8d5af7  \n",
       "58770  2020-04-12T05:59:00.000Z  5eacd45ed7f69950eb8d5af8  \n",
       "\n",
       "[58771 rows x 13 columns]"
      ]
     },
     "execution_count": 9,
     "metadata": {},
     "output_type": "execute_result"
    }
   ],
   "source": [
    "df.dropna(axis=0)"
   ]
  },
  {
   "cell_type": "code",
   "execution_count": 10,
   "metadata": {},
   "outputs": [
    {
     "data": {
      "text/plain": [
       "DR    40556\n",
       "EM    16793\n",
       "FM     1032\n",
       "FS      390\n",
       "Name: disasterType, dtype: int64"
      ]
     },
     "execution_count": 10,
     "metadata": {},
     "output_type": "execute_result"
    }
   ],
   "source": [
    "df['disasterType'].value_counts()"
   ]
  },
  {
   "cell_type": "markdown",
   "metadata": {},
   "source": [
    "### Retaining necessary columns "
   ]
  },
  {
   "cell_type": "code",
   "execution_count": 11,
   "metadata": {},
   "outputs": [
    {
     "data": {
      "text/html": [
       "<div>\n",
       "<style scoped>\n",
       "    .dataframe tbody tr th:only-of-type {\n",
       "        vertical-align: middle;\n",
       "    }\n",
       "\n",
       "    .dataframe tbody tr th {\n",
       "        vertical-align: top;\n",
       "    }\n",
       "\n",
       "    .dataframe thead th {\n",
       "        text-align: right;\n",
       "    }\n",
       "</style>\n",
       "<table border=\"1\" class=\"dataframe\">\n",
       "  <thead>\n",
       "    <tr style=\"text-align: right;\">\n",
       "      <th></th>\n",
       "      <th>state</th>\n",
       "      <th>incidentType</th>\n",
       "      <th>title</th>\n",
       "      <th>incidentBeginDate</th>\n",
       "      <th>fyDeclared</th>\n",
       "      <th>declarationDate</th>\n",
       "    </tr>\n",
       "  </thead>\n",
       "  <tbody>\n",
       "    <tr>\n",
       "      <td>0</td>\n",
       "      <td>GA</td>\n",
       "      <td>Tornado</td>\n",
       "      <td>TORNADO</td>\n",
       "      <td>1953-05-02T00:00:00.000Z</td>\n",
       "      <td>1953</td>\n",
       "      <td>1953-05-02T00:00:00.000Z</td>\n",
       "    </tr>\n",
       "    <tr>\n",
       "      <td>1</td>\n",
       "      <td>TX</td>\n",
       "      <td>Tornado</td>\n",
       "      <td>TORNADO &amp; HEAVY RAINFALL</td>\n",
       "      <td>1953-05-15T00:00:00.000Z</td>\n",
       "      <td>1953</td>\n",
       "      <td>1953-05-15T00:00:00.000Z</td>\n",
       "    </tr>\n",
       "    <tr>\n",
       "      <td>2</td>\n",
       "      <td>LA</td>\n",
       "      <td>Flood</td>\n",
       "      <td>FLOOD</td>\n",
       "      <td>1953-05-29T00:00:00.000Z</td>\n",
       "      <td>1953</td>\n",
       "      <td>1953-05-29T00:00:00.000Z</td>\n",
       "    </tr>\n",
       "    <tr>\n",
       "      <td>3</td>\n",
       "      <td>MI</td>\n",
       "      <td>Tornado</td>\n",
       "      <td>TORNADO</td>\n",
       "      <td>1953-06-09T00:00:00.000Z</td>\n",
       "      <td>1953</td>\n",
       "      <td>1953-06-09T00:00:00.000Z</td>\n",
       "    </tr>\n",
       "    <tr>\n",
       "      <td>4</td>\n",
       "      <td>MI</td>\n",
       "      <td>Tornado</td>\n",
       "      <td>TORNADO</td>\n",
       "      <td>1953-06-02T00:00:00.000Z</td>\n",
       "      <td>1953</td>\n",
       "      <td>1953-06-02T00:00:00.000Z</td>\n",
       "    </tr>\n",
       "  </tbody>\n",
       "</table>\n",
       "</div>"
      ],
      "text/plain": [
       "  state incidentType                     title         incidentBeginDate  \\\n",
       "0    GA      Tornado                   TORNADO  1953-05-02T00:00:00.000Z   \n",
       "1    TX      Tornado  TORNADO & HEAVY RAINFALL  1953-05-15T00:00:00.000Z   \n",
       "2    LA        Flood                     FLOOD  1953-05-29T00:00:00.000Z   \n",
       "3    MI      Tornado                   TORNADO  1953-06-09T00:00:00.000Z   \n",
       "4    MI      Tornado                   TORNADO  1953-06-02T00:00:00.000Z   \n",
       "\n",
       "   fyDeclared           declarationDate  \n",
       "0        1953  1953-05-02T00:00:00.000Z  \n",
       "1        1953  1953-05-15T00:00:00.000Z  \n",
       "2        1953  1953-05-29T00:00:00.000Z  \n",
       "3        1953  1953-06-09T00:00:00.000Z  \n",
       "4        1953  1953-06-02T00:00:00.000Z  "
      ]
     },
     "execution_count": 11,
     "metadata": {},
     "output_type": "execute_result"
    }
   ],
   "source": [
    "disaster_df = df[['state','incidentType','title','incidentBeginDate','fyDeclared','declarationDate']].copy()\n",
    "disaster_df.head(5)"
   ]
  },
  {
   "cell_type": "code",
   "execution_count": 12,
   "metadata": {},
   "outputs": [
    {
     "data": {
      "text/plain": [
       "TX    0.076041\n",
       "MO    0.045124\n",
       "VA    0.041857\n",
       "KY    0.041126\n",
       "OK    0.038607\n",
       "GA    0.038114\n",
       "FL    0.033044\n",
       "NC    0.031104\n",
       "IA    0.030610\n",
       "PR    0.029504\n",
       "KS    0.028858\n",
       "LA    0.028688\n",
       "MS    0.026561\n",
       "AR    0.025574\n",
       "TN    0.025540\n",
       "AL    0.025540\n",
       "MN    0.025387\n",
       "IN    0.024706\n",
       "NE    0.024230\n",
       "NY    0.024077\n",
       "CA    0.023362\n",
       "OH    0.021796\n",
       "ND    0.021745\n",
       "IL    0.021592\n",
       "SD    0.021133\n",
       "PA    0.020861\n",
       "WV    0.020742\n",
       "ME    0.017066\n",
       "WI    0.015161\n",
       "SC    0.014582\n",
       "WA    0.014157\n",
       "MI    0.013357\n",
       "CO    0.010686\n",
       "NJ    0.009665\n",
       "MT    0.009631\n",
       "NM    0.008337\n",
       "OR    0.008235\n",
       "MD    0.007572\n",
       "MA    0.006602\n",
       "ID    0.005853\n",
       "VT    0.005360\n",
       "AZ    0.005105\n",
       "NH    0.004849\n",
       "NV    0.004305\n",
       "AK    0.004084\n",
       "UT    0.003965\n",
       "CT    0.003709\n",
       "WY    0.002127\n",
       "RI    0.001736\n",
       "HI    0.001480\n",
       "VI    0.001327\n",
       "AS    0.001276\n",
       "MP    0.001055\n",
       "MH    0.001038\n",
       "DE    0.000851\n",
       "FM    0.000527\n",
       "DC    0.000374\n",
       "GU    0.000306\n",
       "PW    0.000102\n",
       "Name: state, dtype: float64"
      ]
     },
     "execution_count": 12,
     "metadata": {},
     "output_type": "execute_result"
    }
   ],
   "source": [
    "disaster_df['state'].value_counts(normalize = True)"
   ]
  },
  {
   "cell_type": "code",
   "execution_count": 13,
   "metadata": {},
   "outputs": [
    {
     "data": {
      "text/plain": [
       "Severe Storm(s)     0.285889\n",
       "Hurricane           0.184887\n",
       "Flood               0.176516\n",
       "Biological          0.129843\n",
       "Snow                0.062259\n",
       "Fire                0.052169\n",
       "Severe Ice Storm    0.033860\n",
       "Tornado             0.024689\n",
       "Drought             0.021984\n",
       "Coastal Storm       0.008627\n",
       "Freezing            0.005122\n",
       "Other               0.005054\n",
       "Earthquake          0.003811\n",
       "Typhoon             0.002433\n",
       "Volcano             0.000868\n",
       "Fishing Losses      0.000715\n",
       "Mud/Landslide       0.000527\n",
       "Toxic Substances    0.000153\n",
       "Tsunami             0.000153\n",
       "Chemical            0.000153\n",
       "Dam/Levee Break     0.000102\n",
       "Human Cause         0.000102\n",
       "Terrorist           0.000085\n",
       "Name: incidentType, dtype: float64"
      ]
     },
     "execution_count": 13,
     "metadata": {},
     "output_type": "execute_result"
    }
   ],
   "source": [
    "disaster_df['incidentType'].value_counts(normalize = True)"
   ]
  },
  {
   "cell_type": "code",
   "execution_count": 14,
   "metadata": {},
   "outputs": [
    {
     "data": {
      "text/plain": [
       "COVID-19 PANDEMIC                        0.066955\n",
       "SEVERE STORMS AND FLOODING               0.064266\n",
       "COVID-19                                 0.062888\n",
       "SEVERE STORMS & FLOODING                 0.057630\n",
       "HURRICANE KATRINA EVACUATION             0.044274\n",
       "                                           ...   \n",
       "FL - ESCAMBIA FIRE COMPLEX - 05/16/01    0.000017\n",
       "EAST SIDWYNICKS FIRE                     0.000017\n",
       "KOHALA MOUNTAIN ROAD FIRE                0.000017\n",
       "AKONI PULE HIGHWAY FIRE                  0.000017\n",
       "JACKSON CANYON FIRE                      0.000017\n",
       "Name: title, Length: 1815, dtype: float64"
      ]
     },
     "execution_count": 14,
     "metadata": {},
     "output_type": "execute_result"
    }
   ],
   "source": [
    "disaster_df['title'].value_counts(normalize = True)"
   ]
  },
  {
   "cell_type": "code",
   "execution_count": 15,
   "metadata": {},
   "outputs": [],
   "source": [
    "states = {\n",
    "        'AK': 'Alaska',\n",
    "        'AL': 'Alabama',\n",
    "        'AR': 'Arkansas',\n",
    "        'AS': 'American Samoa',\n",
    "        'AZ': 'Arizona',\n",
    "        'CA': 'California',\n",
    "        'CO': 'Colorado',\n",
    "        'CT': 'Connecticut',\n",
    "        'DC': 'District of Columbia',\n",
    "        'DE': 'Delaware',\n",
    "        'FL': 'Florida',\n",
    "        'GA': 'Georgia',\n",
    "        'GU': 'Guam',\n",
    "        'HI': 'Hawaii',\n",
    "        'IA': 'Iowa',\n",
    "        'ID': 'Idaho',\n",
    "        'IL': 'Illinois',\n",
    "        'IN': 'Indiana',\n",
    "        'KS': 'Kansas',\n",
    "        'KY': 'Kentucky',\n",
    "        'LA': 'Louisiana',\n",
    "        'MA': 'Massachusetts',\n",
    "        'MD': 'Maryland',\n",
    "        'ME': 'Maine',\n",
    "        'MI': 'Michigan',\n",
    "        'MN': 'Minnesota',\n",
    "        'MO': 'Missouri',\n",
    "        'MP': 'Northern Mariana Islands',\n",
    "        'MS': 'Mississippi',\n",
    "        'MT': 'Montana',\n",
    "        'NA': 'National',\n",
    "        'NC': 'North Carolina',\n",
    "        'ND': 'North Dakota',\n",
    "        'NE': 'Nebraska',\n",
    "        'NH': 'New Hampshire',\n",
    "        'NJ': 'New Jersey',\n",
    "        'NM': 'New Mexico',\n",
    "        'NV': 'Nevada',\n",
    "        'NY': 'New York',\n",
    "        'OH': 'Ohio',\n",
    "        'OK': 'Oklahoma',\n",
    "        'OR': 'Oregon',\n",
    "        'PA': 'Pennsylvania',\n",
    "        'PR': 'Puerto Rico',\n",
    "        'RI': 'Rhode Island',\n",
    "        'SC': 'South Carolina',\n",
    "        'SD': 'South Dakota',\n",
    "        'TN': 'Tennessee',\n",
    "        'TX': 'Texas',\n",
    "        'UT': 'Utah',\n",
    "        'VA': 'Virginia',\n",
    "        'VI': 'Virgin Islands',\n",
    "        'VT': 'Vermont',\n",
    "        'WA': 'Washington',\n",
    "        'WI': 'Wisconsin',\n",
    "        'WV': 'West Virginia',\n",
    "        'WY': 'Wyoming'\n",
    "}"
   ]
  },
  {
   "cell_type": "code",
   "execution_count": 16,
   "metadata": {},
   "outputs": [
    {
     "data": {
      "text/html": [
       "<div>\n",
       "<style scoped>\n",
       "    .dataframe tbody tr th:only-of-type {\n",
       "        vertical-align: middle;\n",
       "    }\n",
       "\n",
       "    .dataframe tbody tr th {\n",
       "        vertical-align: top;\n",
       "    }\n",
       "\n",
       "    .dataframe thead th {\n",
       "        text-align: right;\n",
       "    }\n",
       "</style>\n",
       "<table border=\"1\" class=\"dataframe\">\n",
       "  <thead>\n",
       "    <tr style=\"text-align: right;\">\n",
       "      <th></th>\n",
       "      <th>state</th>\n",
       "      <th>incidentType</th>\n",
       "      <th>title</th>\n",
       "      <th>incidentBeginDate</th>\n",
       "      <th>fyDeclared</th>\n",
       "      <th>declarationDate</th>\n",
       "    </tr>\n",
       "  </thead>\n",
       "  <tbody>\n",
       "    <tr>\n",
       "      <td>0</td>\n",
       "      <td>Georgia</td>\n",
       "      <td>Tornado</td>\n",
       "      <td>TORNADO</td>\n",
       "      <td>1953-05-02T00:00:00.000Z</td>\n",
       "      <td>1953</td>\n",
       "      <td>1953-05-02T00:00:00.000Z</td>\n",
       "    </tr>\n",
       "    <tr>\n",
       "      <td>1</td>\n",
       "      <td>Texas</td>\n",
       "      <td>Tornado</td>\n",
       "      <td>TORNADO &amp; HEAVY RAINFALL</td>\n",
       "      <td>1953-05-15T00:00:00.000Z</td>\n",
       "      <td>1953</td>\n",
       "      <td>1953-05-15T00:00:00.000Z</td>\n",
       "    </tr>\n",
       "  </tbody>\n",
       "</table>\n",
       "</div>"
      ],
      "text/plain": [
       "     state incidentType                     title         incidentBeginDate  \\\n",
       "0  Georgia      Tornado                   TORNADO  1953-05-02T00:00:00.000Z   \n",
       "1    Texas      Tornado  TORNADO & HEAVY RAINFALL  1953-05-15T00:00:00.000Z   \n",
       "\n",
       "   fyDeclared           declarationDate  \n",
       "0        1953  1953-05-02T00:00:00.000Z  \n",
       "1        1953  1953-05-15T00:00:00.000Z  "
      ]
     },
     "execution_count": 16,
     "metadata": {},
     "output_type": "execute_result"
    }
   ],
   "source": [
    "disaster_df['state'].replace(states, inplace = True)\n",
    "#disaster\n",
    "disaster_df.head(2)"
   ]
  },
  {
   "cell_type": "code",
   "execution_count": 17,
   "metadata": {},
   "outputs": [],
   "source": [
    "rename_col = {'incidentBeginDate':'Begin_date',\n",
    "             'declarationDate': 'End_date',\n",
    "              'fyDeclared':'Year_occured'}"
   ]
  },
  {
   "cell_type": "code",
   "execution_count": 18,
   "metadata": {},
   "outputs": [
    {
     "data": {
      "text/html": [
       "<div>\n",
       "<style scoped>\n",
       "    .dataframe tbody tr th:only-of-type {\n",
       "        vertical-align: middle;\n",
       "    }\n",
       "\n",
       "    .dataframe tbody tr th {\n",
       "        vertical-align: top;\n",
       "    }\n",
       "\n",
       "    .dataframe thead th {\n",
       "        text-align: right;\n",
       "    }\n",
       "</style>\n",
       "<table border=\"1\" class=\"dataframe\">\n",
       "  <thead>\n",
       "    <tr style=\"text-align: right;\">\n",
       "      <th></th>\n",
       "      <th>state</th>\n",
       "      <th>incidentType</th>\n",
       "      <th>title</th>\n",
       "      <th>Begin_date</th>\n",
       "      <th>Year_occured</th>\n",
       "      <th>End_date</th>\n",
       "    </tr>\n",
       "  </thead>\n",
       "  <tbody>\n",
       "    <tr>\n",
       "      <td>0</td>\n",
       "      <td>Georgia</td>\n",
       "      <td>Tornado</td>\n",
       "      <td>TORNADO</td>\n",
       "      <td>1953-05-02T00:00:00.000Z</td>\n",
       "      <td>1953</td>\n",
       "      <td>1953-05-02T00:00:00.000Z</td>\n",
       "    </tr>\n",
       "    <tr>\n",
       "      <td>1</td>\n",
       "      <td>Texas</td>\n",
       "      <td>Tornado</td>\n",
       "      <td>TORNADO &amp; HEAVY RAINFALL</td>\n",
       "      <td>1953-05-15T00:00:00.000Z</td>\n",
       "      <td>1953</td>\n",
       "      <td>1953-05-15T00:00:00.000Z</td>\n",
       "    </tr>\n",
       "  </tbody>\n",
       "</table>\n",
       "</div>"
      ],
      "text/plain": [
       "     state incidentType                     title                Begin_date  \\\n",
       "0  Georgia      Tornado                   TORNADO  1953-05-02T00:00:00.000Z   \n",
       "1    Texas      Tornado  TORNADO & HEAVY RAINFALL  1953-05-15T00:00:00.000Z   \n",
       "\n",
       "   Year_occured                  End_date  \n",
       "0          1953  1953-05-02T00:00:00.000Z  \n",
       "1          1953  1953-05-15T00:00:00.000Z  "
      ]
     },
     "execution_count": 18,
     "metadata": {},
     "output_type": "execute_result"
    }
   ],
   "source": [
    "disaster_df.rename(columns = rename_col,inplace = True)\n",
    "disaster_df.head(2)"
   ]
  },
  {
   "cell_type": "code",
   "execution_count": 19,
   "metadata": {},
   "outputs": [
    {
     "data": {
      "text/plain": [
       "0               Georgia\n",
       "1                 Texas\n",
       "2             Louisiana\n",
       "3              Michigan\n",
       "4              Michigan\n",
       "              ...      \n",
       "58766    South Carolina\n",
       "58767    South Carolina\n",
       "58768    South Carolina\n",
       "58769    South Carolina\n",
       "58770    South Carolina\n",
       "Name: state, Length: 58771, dtype: object"
      ]
     },
     "execution_count": 19,
     "metadata": {},
     "output_type": "execute_result"
    }
   ],
   "source": [
    "disaster_df['state']"
   ]
  },
  {
   "cell_type": "code",
   "execution_count": 20,
   "metadata": {},
   "outputs": [
    {
     "data": {
      "text/plain": [
       "(array([ 0,  1,  2,  3,  4,  5,  6,  7,  8,  9, 10, 11, 12, 13, 14, 15, 16,\n",
       "        17, 18, 19, 20, 21, 22, 23, 24, 25, 26, 27, 28, 29, 30, 31, 32, 33,\n",
       "        34, 35, 36, 37, 38, 39, 40, 41, 42, 43, 44, 45, 46, 47, 48, 49, 50,\n",
       "        51, 52, 53, 54, 55, 56, 57, 58]),\n",
       " <a list of 59 Text xticklabel objects>)"
      ]
     },
     "execution_count": 20,
     "metadata": {},
     "output_type": "execute_result"
    },
    {
     "data": {
      "image/png": "[encoded data removed]",
      "text/plain": [
       "<Figure size 2160x360 with 1 Axes>"
      ]
     },
     "metadata": {
      "needs_background": "light"
     },
     "output_type": "display_data"
    }
   ],
   "source": [
    "import seaborn as sns\n",
    "plt.figure(figsize = (30,5))\n",
    "plt.style.use('seaborn')\n",
    "sns.countplot(disaster_df['state'], color = 'b')\n",
    "plt.xticks(rotation = 75)"
   ]
  },
  {
   "cell_type": "code",
   "execution_count": 21,
   "metadata": {},
   "outputs": [],
   "source": [
    "disaster_df.to_csv('./disaster_cleanp.csv', index = False)\n",
    "df2 = pd.read_excel('./ststdsadata.xlsx',header=7)"
   ]
  },
  {
   "cell_type": "code",
   "execution_count": 22,
   "metadata": {},
   "outputs": [
    {
     "data": {
      "text/html": [
       "<div>\n",
       "<style scoped>\n",
       "    .dataframe tbody tr th:only-of-type {\n",
       "        vertical-align: middle;\n",
       "    }\n",
       "\n",
       "    .dataframe tbody tr th {\n",
       "        vertical-align: top;\n",
       "    }\n",
       "\n",
       "    .dataframe thead th {\n",
       "        text-align: right;\n",
       "    }\n",
       "</style>\n",
       "<table border=\"1\" class=\"dataframe\">\n",
       "  <thead>\n",
       "    <tr style=\"text-align: right;\">\n",
       "      <th></th>\n",
       "      <th>Unnamed: 0</th>\n",
       "      <th>Unnamed: 1</th>\n",
       "      <th>Unnamed: 2</th>\n",
       "      <th>Unnamed: 3</th>\n",
       "      <th>Unnamed: 4</th>\n",
       "      <th>Unnamed: 5</th>\n",
       "      <th>Unnamed: 6</th>\n",
       "      <th>Unnamed: 7</th>\n",
       "      <th>Unnamed: 8</th>\n",
       "      <th>Unnamed: 9</th>\n",
       "      <th>Unnamed: 10</th>\n",
       "    </tr>\n",
       "  </thead>\n",
       "  <tbody>\n",
       "    <tr>\n",
       "      <td>0</td>\n",
       "      <td>1</td>\n",
       "      <td>Alabama</td>\n",
       "      <td>1976</td>\n",
       "      <td>1</td>\n",
       "      <td>2605000</td>\n",
       "      <td>1492409</td>\n",
       "      <td>57.3</td>\n",
       "      <td>1392154</td>\n",
       "      <td>53.4</td>\n",
       "      <td>100255</td>\n",
       "      <td>6.7</td>\n",
       "    </tr>\n",
       "    <tr>\n",
       "      <td>1</td>\n",
       "      <td>2</td>\n",
       "      <td>Alaska</td>\n",
       "      <td>1976</td>\n",
       "      <td>1</td>\n",
       "      <td>232000</td>\n",
       "      <td>159154</td>\n",
       "      <td>68.6</td>\n",
       "      <td>147809</td>\n",
       "      <td>63.7</td>\n",
       "      <td>11345</td>\n",
       "      <td>7.1</td>\n",
       "    </tr>\n",
       "  </tbody>\n",
       "</table>\n",
       "</div>"
      ],
      "text/plain": [
       "   Unnamed: 0 Unnamed: 1  Unnamed: 2  Unnamed: 3  Unnamed: 4  Unnamed: 5  \\\n",
       "0           1    Alabama        1976           1     2605000     1492409   \n",
       "1           2     Alaska        1976           1      232000      159154   \n",
       "\n",
       "   Unnamed: 6  Unnamed: 7  Unnamed: 8  Unnamed: 9  Unnamed: 10  \n",
       "0        57.3     1392154        53.4      100255          6.7  \n",
       "1        68.6      147809        63.7       11345          7.1  "
      ]
     },
     "execution_count": 22,
     "metadata": {},
     "output_type": "execute_result"
    }
   ],
   "source": [
    "df2.head(2)"
   ]
  },
  {
   "cell_type": "code",
   "execution_count": 23,
   "metadata": {},
   "outputs": [
    {
     "data": {
      "text/plain": [
       "Index(['Unnamed: 0', 'Unnamed: 1', 'Unnamed: 2', 'Unnamed: 3', 'Unnamed: 4',\n",
       "       'Unnamed: 5', 'Unnamed: 6', 'Unnamed: 7', 'Unnamed: 8', 'Unnamed: 9',\n",
       "       'Unnamed: 10'],\n",
       "      dtype='object')"
      ]
     },
     "execution_count": 23,
     "metadata": {},
     "output_type": "execute_result"
    }
   ],
   "source": [
    "df2.columns "
   ]
  },
  {
   "cell_type": "markdown",
   "metadata": {},
   "source": [
    "### Rename columns data frame II"
   ]
  },
  {
   "cell_type": "code",
   "execution_count": 24,
   "metadata": {},
   "outputs": [],
   "source": [
    "col ={ 'Unnamed: 0':'FIS_Code' , 'Unnamed: 1':'state', 'Unnamed: 2':'year', 'Unnamed: 3':'month', 'Unnamed: 4':'population',\n",
    "       'Unnamed: 5':'labor_force_total', 'Unnamed: 6':'labor_force%', 'Unnamed: 7':'labor_force_employed', 'Unnamed: 8':'labor_force_employed%', \n",
    "       'Unnamed: 9':'labor_force_unemployed',\n",
    "       'Unnamed: 10':'labor_force_unemployed%'}"
   ]
  },
  {
   "cell_type": "code",
   "execution_count": 25,
   "metadata": {},
   "outputs": [
    {
     "data": {
      "text/html": [
       "<div>\n",
       "<style scoped>\n",
       "    .dataframe tbody tr th:only-of-type {\n",
       "        vertical-align: middle;\n",
       "    }\n",
       "\n",
       "    .dataframe tbody tr th {\n",
       "        vertical-align: top;\n",
       "    }\n",
       "\n",
       "    .dataframe thead th {\n",
       "        text-align: right;\n",
       "    }\n",
       "</style>\n",
       "<table border=\"1\" class=\"dataframe\">\n",
       "  <thead>\n",
       "    <tr style=\"text-align: right;\">\n",
       "      <th></th>\n",
       "      <th>FIS_Code</th>\n",
       "      <th>state</th>\n",
       "      <th>year</th>\n",
       "      <th>month</th>\n",
       "      <th>population</th>\n",
       "      <th>labor_force_total</th>\n",
       "      <th>labor_force%</th>\n",
       "      <th>labor_force_employed</th>\n",
       "      <th>labor_force_employed%</th>\n",
       "      <th>labor_force_unemployed</th>\n",
       "      <th>labor_force_unemployed%</th>\n",
       "    </tr>\n",
       "  </thead>\n",
       "  <tbody>\n",
       "    <tr>\n",
       "      <td>0</td>\n",
       "      <td>1</td>\n",
       "      <td>Alabama</td>\n",
       "      <td>1976</td>\n",
       "      <td>1</td>\n",
       "      <td>2605000</td>\n",
       "      <td>1492409</td>\n",
       "      <td>57.3</td>\n",
       "      <td>1392154</td>\n",
       "      <td>53.4</td>\n",
       "      <td>100255</td>\n",
       "      <td>6.7</td>\n",
       "    </tr>\n",
       "    <tr>\n",
       "      <td>1</td>\n",
       "      <td>2</td>\n",
       "      <td>Alaska</td>\n",
       "      <td>1976</td>\n",
       "      <td>1</td>\n",
       "      <td>232000</td>\n",
       "      <td>159154</td>\n",
       "      <td>68.6</td>\n",
       "      <td>147809</td>\n",
       "      <td>63.7</td>\n",
       "      <td>11345</td>\n",
       "      <td>7.1</td>\n",
       "    </tr>\n",
       "  </tbody>\n",
       "</table>\n",
       "</div>"
      ],
      "text/plain": [
       "   FIS_Code    state  year  month  population  labor_force_total  \\\n",
       "0         1  Alabama  1976      1     2605000            1492409   \n",
       "1         2   Alaska  1976      1      232000             159154   \n",
       "\n",
       "   labor_force%  labor_force_employed  labor_force_employed%  \\\n",
       "0          57.3               1392154                   53.4   \n",
       "1          68.6                147809                   63.7   \n",
       "\n",
       "   labor_force_unemployed  labor_force_unemployed%  \n",
       "0                  100255                      6.7  \n",
       "1                   11345                      7.1  "
      ]
     },
     "execution_count": 25,
     "metadata": {},
     "output_type": "execute_result"
    }
   ],
   "source": [
    "df2.rename(columns=col , inplace = True)\n",
    "df2.head(2)"
   ]
  },
  {
   "cell_type": "code",
   "execution_count": 26,
   "metadata": {},
   "outputs": [],
   "source": [
    "df2.to_csv('./Employement_cleanp.csv', index = False)"
   ]
  },
  {
   "cell_type": "markdown",
   "metadata": {},
   "source": [
    "### data frame III"
   ]
  },
  {
   "cell_type": "code",
   "execution_count": 27,
   "metadata": {},
   "outputs": [],
   "source": [
    "from datetime import timedelta"
   ]
  },
  {
   "cell_type": "code",
   "execution_count": 28,
   "metadata": {},
   "outputs": [
    {
     "data": {
      "text/html": [
       "<div>\n",
       "<style scoped>\n",
       "    .dataframe tbody tr th:only-of-type {\n",
       "        vertical-align: middle;\n",
       "    }\n",
       "\n",
       "    .dataframe tbody tr th {\n",
       "        vertical-align: top;\n",
       "    }\n",
       "\n",
       "    .dataframe thead th {\n",
       "        text-align: right;\n",
       "    }\n",
       "</style>\n",
       "<table border=\"1\" class=\"dataframe\">\n",
       "  <thead>\n",
       "    <tr style=\"text-align: right;\">\n",
       "      <th></th>\n",
       "      <th>occ_code</th>\n",
       "      <th>occ_title</th>\n",
       "      <th>tot_emp</th>\n",
       "      <th>h_mean</th>\n",
       "      <th>a_mean</th>\n",
       "    </tr>\n",
       "  </thead>\n",
       "  <tbody>\n",
       "    <tr>\n",
       "      <td>0</td>\n",
       "      <td>00-0000</td>\n",
       "      <td>All Occupations</td>\n",
       "      <td>146875480</td>\n",
       "      <td>25.72</td>\n",
       "      <td>53490</td>\n",
       "    </tr>\n",
       "    <tr>\n",
       "      <td>1</td>\n",
       "      <td>11-0000</td>\n",
       "      <td>Management Occupations</td>\n",
       "      <td>8054120</td>\n",
       "      <td>58.88</td>\n",
       "      <td>122480</td>\n",
       "    </tr>\n",
       "  </tbody>\n",
       "</table>\n",
       "</div>"
      ],
      "text/plain": [
       "  occ_code               occ_title    tot_emp h_mean  a_mean\n",
       "0  00-0000         All Occupations  146875480  25.72   53490\n",
       "1  11-0000  Management Occupations    8054120  58.88  122480"
      ]
     },
     "execution_count": 28,
     "metadata": {},
     "output_type": "execute_result"
    }
   ],
   "source": [
    "df3 = pd.read_csv(\"./industry_cleanp.csv\")\n",
    "df3.head(2)"
   ]
  },
  {
   "cell_type": "markdown",
   "metadata": {},
   "source": [
    "### Setting data frame based on standard occupational classication "
   ]
  },
  {
   "cell_type": "code",
   "execution_count": 29,
   "metadata": {},
   "outputs": [
    {
     "data": {
      "text/html": [
       "<div>\n",
       "<style scoped>\n",
       "    .dataframe tbody tr th:only-of-type {\n",
       "        vertical-align: middle;\n",
       "    }\n",
       "\n",
       "    .dataframe tbody tr th {\n",
       "        vertical-align: top;\n",
       "    }\n",
       "\n",
       "    .dataframe thead th {\n",
       "        text-align: right;\n",
       "    }\n",
       "</style>\n",
       "<table border=\"1\" class=\"dataframe\">\n",
       "  <thead>\n",
       "    <tr style=\"text-align: right;\">\n",
       "      <th></th>\n",
       "      <th>occ_code</th>\n",
       "      <th>occ_title</th>\n",
       "      <th>tot_emp</th>\n",
       "      <th>h_mean</th>\n",
       "      <th>a_mean</th>\n",
       "      <th>job_industry</th>\n",
       "    </tr>\n",
       "  </thead>\n",
       "  <tbody>\n",
       "    <tr>\n",
       "      <td>0</td>\n",
       "      <td>00-0000</td>\n",
       "      <td>All Occupations</td>\n",
       "      <td>146875480</td>\n",
       "      <td>25.72</td>\n",
       "      <td>53490</td>\n",
       "      <td>occupation</td>\n",
       "    </tr>\n",
       "    <tr>\n",
       "      <td>1</td>\n",
       "      <td>11-0000</td>\n",
       "      <td>Management Occupations</td>\n",
       "      <td>8054120</td>\n",
       "      <td>58.88</td>\n",
       "      <td>122480</td>\n",
       "      <td>Management</td>\n",
       "    </tr>\n",
       "    <tr>\n",
       "      <td>2</td>\n",
       "      <td>11-1000</td>\n",
       "      <td>Top Executives</td>\n",
       "      <td>2658440</td>\n",
       "      <td>61.09</td>\n",
       "      <td>127070</td>\n",
       "      <td>Management</td>\n",
       "    </tr>\n",
       "  </tbody>\n",
       "</table>\n",
       "</div>"
      ],
      "text/plain": [
       "  occ_code               occ_title    tot_emp h_mean  a_mean job_industry\n",
       "0  00-0000         All Occupations  146875480  25.72   53490   occupation\n",
       "1  11-0000  Management Occupations    8054120  58.88  122480   Management\n",
       "2  11-1000          Top Executives    2658440  61.09  127070   Management"
      ]
     },
     "execution_count": 29,
     "metadata": {},
     "output_type": "execute_result"
    }
   ],
   "source": [
    "df3['job_industry']= df3['occ_code'].apply(lambda x : x[:2])\n",
    "pd.set_option('display.max_row()',None)\n",
    "ind = {'00':'occupation',\n",
    "        '11' : 'Management',\n",
    "        '13' : ' Business and Financial Operations',\n",
    "        '15' : 'Computer and Mathematical',\n",
    "        '17':'Architecture and Engineering',\n",
    "        '19' :'Life, Physical, and Social Science',\n",
    "        '21' :'Community and Social Service',\n",
    "        '23' : 'Legal',\n",
    "        '25' :'Educational Instruction and Library',\n",
    "        '27' :'Arts, Design, Entertainment, Sports, and Media',\n",
    "        '29' :'Healthcare Practitioners and Technical',\n",
    "        '31' :'Healthcare Support',\n",
    "        '33' :'Protective Service',\n",
    "        '35' :'Food Preparation and Serving Related',\n",
    "        '37' :'Building and Grounds Cleaning and Maintenance',\n",
    "        '39' :'Personal Care and Service',\n",
    "        '41' :'Sales and Related',\n",
    "        '43' :'Office and Administrative Support',\n",
    "        '45' :'Farming, Fishing, and Forestry',\n",
    "        '47' :'Construction and Extraction',\n",
    "        '49' :'Installation, Maintenance, and Repair',\n",
    "        '51' :'Production',\n",
    "        '53' :'Transportation and Material Moving'}\n",
    "df3['job_industry'].replace(ind, inplace = True)\n",
    "#df3['job_industry'] = df3['job_industry'].astype(str).map(lambda y: y.replace(ind)).astype(str)\n",
    "df3.head(3)"
   ]
  },
  {
   "cell_type": "code",
   "execution_count": 30,
   "metadata": {},
   "outputs": [],
   "source": [
    "f = {'*' : 58422}\n"
   ]
  },
  {
   "cell_type": "code",
   "execution_count": 31,
   "metadata": {},
   "outputs": [
    {
     "data": {
      "text/plain": [
       "61665.16177577126"
      ]
     },
     "execution_count": 31,
     "metadata": {},
     "output_type": "execute_result"
    }
   ],
   "source": [
    "\n",
    "df3['a_mean'] = df3['a_mean'].astype(str).map(lambda y: y.replace('*' ,'58525')).astype(int)\n",
    "#[x for x in df3['a_mean'] if not '*' in x]\n",
    "df3['a_mean'].mean()"
   ]
  },
  {
   "cell_type": "code",
   "execution_count": 32,
   "metadata": {},
   "outputs": [
    {
     "data": {
      "text/plain": [
       "job_industry\n",
       " Business and Financial Operations                 74318.627451\n",
       "Architecture and Engineering                       89287.000000\n",
       "Arts, Design, Entertainment, Sports, and Media     63267.413793\n",
       "Building and Grounds Cleaning and Maintenance      37284.444444\n",
       "Community and Social Service                       50857.307692\n",
       "Computer and Mathematical                          97529.000000\n",
       "Construction and Extraction                        50148.659794\n",
       "Educational Instruction and Library                73180.957447\n",
       "Farming, Fishing, and Forestry                     38928.333333\n",
       "Food Preparation and Serving Related               28714.848485\n",
       "Healthcare Practitioners and Technical            102319.000000\n",
       "Healthcare Support                                 38341.481481\n",
       "Installation, Maintenance, and Repair              50942.666667\n",
       "Legal                                              91007.333333\n",
       "Life, Physical, and Social Science                 79760.921053\n",
       "Management                                        112835.151515\n",
       "Office and Administrative Support                  41349.816514\n",
       "Personal Care and Service                          33809.038462\n",
       "Production                                         41804.011976\n",
       "Protective Service                                 55836.097561\n",
       "Sales and Related                                  55274.418605\n",
       "Transportation and Material Moving                 54766.279070\n",
       "occupation                                         53490.000000\n",
       "Name: a_mean, dtype: float64"
      ]
     },
     "execution_count": 32,
     "metadata": {},
     "output_type": "execute_result"
    }
   ],
   "source": [
    "df3.groupby('job_industry').a_mean.mean()"
   ]
  },
  {
   "cell_type": "code",
   "execution_count": 33,
   "metadata": {},
   "outputs": [
    {
     "data": {
      "text/plain": [
       "(array([ 0,  1,  2,  3,  4,  5,  6,  7,  8,  9, 10, 11, 12, 13, 14, 15, 16,\n",
       "        17, 18, 19, 20, 21, 22]), <a list of 23 Text xticklabel objects>)"
      ]
     },
     "execution_count": 33,
     "metadata": {},
     "output_type": "execute_result"
    },
    {
     "data": {
      "image/png": "[encoded data removed]",
      "text/plain": [
       "<Figure size 576x396 with 1 Axes>"
      ]
     },
     "metadata": {},
     "output_type": "display_data"
    }
   ],
   "source": [
    "df3.groupby('job_industry').a_mean.mean().plot(kind = 'bar')\n",
    "plt.xticks(rotation = 90)"
   ]
  },
  {
   "cell_type": "code",
   "execution_count": 34,
   "metadata": {},
   "outputs": [],
   "source": [
    "#df['DATE']=pd.to_datetime(df['DATE'])\n",
    "import datetime"
   ]
  },
  {
   "cell_type": "code",
   "execution_count": 35,
   "metadata": {},
   "outputs": [
    {
     "data": {
      "text/plain": [
       "0   1953-05-02 00:00:00+00:00\n",
       "1   1953-05-15 00:00:00+00:00\n",
       "Name: Begin_date, dtype: datetime64[ns, UTC]"
      ]
     },
     "execution_count": 35,
     "metadata": {},
     "output_type": "execute_result"
    }
   ],
   "source": [
    "disaster_df['Begin_date'] = pd.to_datetime(disaster_df['Begin_date'], format='%Y%m%d',infer_datetime_format=True)\n",
    "disaster_df['Begin_date'].head(2)"
   ]
  },
  {
   "cell_type": "code",
   "execution_count": 36,
   "metadata": {},
   "outputs": [
    {
     "data": {
      "text/html": [
       "<div>\n",
       "<style scoped>\n",
       "    .dataframe tbody tr th:only-of-type {\n",
       "        vertical-align: middle;\n",
       "    }\n",
       "\n",
       "    .dataframe tbody tr th {\n",
       "        vertical-align: top;\n",
       "    }\n",
       "\n",
       "    .dataframe thead th {\n",
       "        text-align: right;\n",
       "    }\n",
       "</style>\n",
       "<table border=\"1\" class=\"dataframe\">\n",
       "  <thead>\n",
       "    <tr style=\"text-align: right;\">\n",
       "      <th></th>\n",
       "      <th>state</th>\n",
       "      <th>incidentType</th>\n",
       "      <th>title</th>\n",
       "      <th>Begin_date</th>\n",
       "      <th>Year_occured</th>\n",
       "      <th>End_date</th>\n",
       "      <th>month</th>\n",
       "    </tr>\n",
       "  </thead>\n",
       "  <tbody>\n",
       "    <tr>\n",
       "      <td>0</td>\n",
       "      <td>Georgia</td>\n",
       "      <td>Tornado</td>\n",
       "      <td>TORNADO</td>\n",
       "      <td>1953-05-02 00:00:00+00:00</td>\n",
       "      <td>1953</td>\n",
       "      <td>1953-05-02T00:00:00.000Z</td>\n",
       "      <td>5</td>\n",
       "    </tr>\n",
       "    <tr>\n",
       "      <td>1</td>\n",
       "      <td>Texas</td>\n",
       "      <td>Tornado</td>\n",
       "      <td>TORNADO &amp; HEAVY RAINFALL</td>\n",
       "      <td>1953-05-15 00:00:00+00:00</td>\n",
       "      <td>1953</td>\n",
       "      <td>1953-05-15T00:00:00.000Z</td>\n",
       "      <td>5</td>\n",
       "    </tr>\n",
       "  </tbody>\n",
       "</table>\n",
       "</div>"
      ],
      "text/plain": [
       "     state incidentType                     title                Begin_date  \\\n",
       "0  Georgia      Tornado                   TORNADO 1953-05-02 00:00:00+00:00   \n",
       "1    Texas      Tornado  TORNADO & HEAVY RAINFALL 1953-05-15 00:00:00+00:00   \n",
       "\n",
       "   Year_occured                  End_date  month  \n",
       "0          1953  1953-05-02T00:00:00.000Z      5  \n",
       "1          1953  1953-05-15T00:00:00.000Z      5  "
      ]
     },
     "execution_count": 36,
     "metadata": {},
     "output_type": "execute_result"
    }
   ],
   "source": [
    "disaster_df['month']=disaster_df['Begin_date'].apply(lambda x: x.month)\n",
    "#df['month']=df['DATE'].apply(lambda x: x.month)\n",
    "#df['day']=df['DATE'].apply(lambda x: x.day)\n",
    "disaster_df.head(2)"
   ]
  },
  {
   "cell_type": "code",
   "execution_count": 37,
   "metadata": {},
   "outputs": [
    {
     "data": {
      "text/plain": [
       "<matplotlib.axes._subplots.AxesSubplot at 0x17703406148>"
      ]
     },
     "execution_count": 37,
     "metadata": {},
     "output_type": "execute_result"
    },
    {
     "data": {
      "image/png": "[encoded data removed]",
      "text/plain": [
       "<Figure size 576x396 with 1 Axes>"
      ]
     },
     "metadata": {},
     "output_type": "display_data"
    }
   ],
   "source": [
    "months = {1:'January',2:'February', 3:'March', 4:'April',5:'May',6:'June',7:'July', \n",
    "          8:'August',\n",
    "9:'September',10:'October',11:'November',12:'December'}\n",
    "disaster_df['month'].replace(months, inplace = True)\n",
    "disaster_df['month'].value_counts().sort_index().plot(kind='bar', color ='blue')"
   ]
  },
  {
   "cell_type": "code",
   "execution_count": 38,
   "metadata": {},
   "outputs": [
    {
     "name": "stdout",
     "output_type": "stream",
     "text": [
      "24452 days 05:59:00\n",
      "1953-05-02 00:00:00+00:00\n"
     ]
    }
   ],
   "source": [
    "print(disaster_df['Begin_date'].max() -disaster_df['Begin_date'].min())\n",
    "print(disaster_df['Begin_date'].min())"
   ]
  },
  {
   "cell_type": "code",
   "execution_count": 39,
   "metadata": {},
   "outputs": [
    {
     "data": {
      "text/plain": [
       "<matplotlib.axes._subplots.AxesSubplot at 0x17702e746c8>"
      ]
     },
     "execution_count": 39,
     "metadata": {},
     "output_type": "execute_result"
    },
    {
     "data": {
      "image/png": "[encoded data removed]",
      "text/plain": [
       "<Figure size 576x396 with 1 Axes>"
      ]
     },
     "metadata": {},
     "output_type": "display_data"
    }
   ],
   "source": [
    "disaster_df['Year_occured'].value_counts(normalize = True).sort_index().plot(color='blue')"
   ]
  },
  {
   "cell_type": "code",
   "execution_count": 40,
   "metadata": {},
   "outputs": [],
   "source": [
    "df4= pd.read_excel('./state_occupations.xlsx')"
   ]
  },
  {
   "cell_type": "code",
   "execution_count": 41,
   "metadata": {},
   "outputs": [
    {
     "data": {
      "text/html": [
       "<div>\n",
       "<style scoped>\n",
       "    .dataframe tbody tr th:only-of-type {\n",
       "        vertical-align: middle;\n",
       "    }\n",
       "\n",
       "    .dataframe tbody tr th {\n",
       "        vertical-align: top;\n",
       "    }\n",
       "\n",
       "    .dataframe thead th {\n",
       "        text-align: right;\n",
       "    }\n",
       "</style>\n",
       "<table border=\"1\" class=\"dataframe\">\n",
       "  <thead>\n",
       "    <tr style=\"text-align: right;\">\n",
       "      <th></th>\n",
       "      <th>AREA</th>\n",
       "      <th>ST</th>\n",
       "      <th>STATE</th>\n",
       "      <th>OCC_CODE</th>\n",
       "      <th>OCC_TITLE</th>\n",
       "      <th>OCC_GROUP</th>\n",
       "      <th>TOT_EMP</th>\n",
       "      <th>EMP_PRSE</th>\n",
       "      <th>JOBS_1000</th>\n",
       "      <th>LOC_Q</th>\n",
       "      <th>...</th>\n",
       "      <th>H_MEDIAN</th>\n",
       "      <th>H_PCT75</th>\n",
       "      <th>H_PCT90</th>\n",
       "      <th>A_PCT10</th>\n",
       "      <th>A_PCT25</th>\n",
       "      <th>A_MEDIAN</th>\n",
       "      <th>A_PCT75</th>\n",
       "      <th>A_PCT90</th>\n",
       "      <th>ANNUAL</th>\n",
       "      <th>HOURLY</th>\n",
       "    </tr>\n",
       "  </thead>\n",
       "  <tbody>\n",
       "    <tr>\n",
       "      <td>0</td>\n",
       "      <td>1</td>\n",
       "      <td>AL</td>\n",
       "      <td>Alabama</td>\n",
       "      <td>00-0000</td>\n",
       "      <td>All Occupations</td>\n",
       "      <td>total</td>\n",
       "      <td>1922570</td>\n",
       "      <td>0.4</td>\n",
       "      <td>1000</td>\n",
       "      <td>1</td>\n",
       "      <td>...</td>\n",
       "      <td>15.77</td>\n",
       "      <td>25.01</td>\n",
       "      <td>37.83</td>\n",
       "      <td>17770</td>\n",
       "      <td>21740</td>\n",
       "      <td>32800</td>\n",
       "      <td>52020</td>\n",
       "      <td>78690</td>\n",
       "      <td>NaN</td>\n",
       "      <td>NaN</td>\n",
       "    </tr>\n",
       "    <tr>\n",
       "      <td>1</td>\n",
       "      <td>1</td>\n",
       "      <td>AL</td>\n",
       "      <td>Alabama</td>\n",
       "      <td>11-0000</td>\n",
       "      <td>Management Occupations</td>\n",
       "      <td>major</td>\n",
       "      <td>69950</td>\n",
       "      <td>1</td>\n",
       "      <td>36.385</td>\n",
       "      <td>0.71</td>\n",
       "      <td>...</td>\n",
       "      <td>46.63</td>\n",
       "      <td>64.12</td>\n",
       "      <td>90.8</td>\n",
       "      <td>52130</td>\n",
       "      <td>70130</td>\n",
       "      <td>96980</td>\n",
       "      <td>133360</td>\n",
       "      <td>188860</td>\n",
       "      <td>NaN</td>\n",
       "      <td>NaN</td>\n",
       "    </tr>\n",
       "  </tbody>\n",
       "</table>\n",
       "<p>2 rows × 25 columns</p>\n",
       "</div>"
      ],
      "text/plain": [
       "   AREA  ST    STATE OCC_CODE               OCC_TITLE OCC_GROUP  TOT_EMP  \\\n",
       "0     1  AL  Alabama  00-0000         All Occupations     total  1922570   \n",
       "1     1  AL  Alabama  11-0000  Management Occupations     major    69950   \n",
       "\n",
       "  EMP_PRSE JOBS_1000 LOC_Q  ... H_MEDIAN H_PCT75 H_PCT90 A_PCT10 A_PCT25  \\\n",
       "0      0.4      1000     1  ...    15.77   25.01   37.83   17770   21740   \n",
       "1        1    36.385  0.71  ...    46.63   64.12    90.8   52130   70130   \n",
       "\n",
       "  A_MEDIAN A_PCT75 A_PCT90 ANNUAL HOURLY  \n",
       "0    32800   52020   78690    NaN    NaN  \n",
       "1    96980  133360  188860    NaN    NaN  \n",
       "\n",
       "[2 rows x 25 columns]"
      ]
     },
     "execution_count": 41,
     "metadata": {},
     "output_type": "execute_result"
    }
   ],
   "source": [
    "df4.head(2) "
   ]
  },
  {
   "cell_type": "code",
   "execution_count": 42,
   "metadata": {},
   "outputs": [],
   "source": [
    "#def transform(df)\n",
    "    "
   ]
  },
  {
   "cell_type": "code",
   "execution_count": 43,
   "metadata": {},
   "outputs": [
    {
     "data": {
      "text/html": [
       "<div>\n",
       "<style scoped>\n",
       "    .dataframe tbody tr th:only-of-type {\n",
       "        vertical-align: middle;\n",
       "    }\n",
       "\n",
       "    .dataframe tbody tr th {\n",
       "        vertical-align: top;\n",
       "    }\n",
       "\n",
       "    .dataframe thead th {\n",
       "        text-align: right;\n",
       "    }\n",
       "</style>\n",
       "<table border=\"1\" class=\"dataframe\">\n",
       "  <thead>\n",
       "    <tr style=\"text-align: right;\">\n",
       "      <th></th>\n",
       "      <th>STATE</th>\n",
       "      <th>OCC_CODE</th>\n",
       "      <th>OCC_TITLE</th>\n",
       "      <th>A_MEDIAN</th>\n",
       "    </tr>\n",
       "  </thead>\n",
       "  <tbody>\n",
       "    <tr>\n",
       "      <td>0</td>\n",
       "      <td>Alabama</td>\n",
       "      <td>00-0000</td>\n",
       "      <td>All Occupations</td>\n",
       "      <td>32800</td>\n",
       "    </tr>\n",
       "    <tr>\n",
       "      <td>1</td>\n",
       "      <td>Alabama</td>\n",
       "      <td>11-0000</td>\n",
       "      <td>Management Occupations</td>\n",
       "      <td>96980</td>\n",
       "    </tr>\n",
       "    <tr>\n",
       "      <td>2</td>\n",
       "      <td>Alabama</td>\n",
       "      <td>11-1011</td>\n",
       "      <td>Chief Executives</td>\n",
       "      <td>196460</td>\n",
       "    </tr>\n",
       "    <tr>\n",
       "      <td>3</td>\n",
       "      <td>Alabama</td>\n",
       "      <td>11-1021</td>\n",
       "      <td>General and Operations Managers</td>\n",
       "      <td>102320</td>\n",
       "    </tr>\n",
       "    <tr>\n",
       "      <td>4</td>\n",
       "      <td>Alabama</td>\n",
       "      <td>11-1031</td>\n",
       "      <td>Legislators</td>\n",
       "      <td>18910</td>\n",
       "    </tr>\n",
       "  </tbody>\n",
       "</table>\n",
       "</div>"
      ],
      "text/plain": [
       "     STATE OCC_CODE                        OCC_TITLE A_MEDIAN\n",
       "0  Alabama  00-0000                  All Occupations    32800\n",
       "1  Alabama  11-0000           Management Occupations    96980\n",
       "2  Alabama  11-1011                 Chief Executives   196460\n",
       "3  Alabama  11-1021  General and Operations Managers   102320\n",
       "4  Alabama  11-1031                      Legislators    18910"
      ]
     },
     "execution_count": 43,
     "metadata": {},
     "output_type": "execute_result"
    }
   ],
   "source": [
    "oc_df = df4[['STATE','OCC_CODE','OCC_TITLE','A_MEDIAN']].copy()\n",
    "oc_df.head()"
   ]
  },
  {
   "cell_type": "code",
   "execution_count": 44,
   "metadata": {},
   "outputs": [],
   "source": [
    "oc_df['JOB_CLASS']= oc_df['OCC_CODE'].apply(lambda x : x[:2])\n",
    "pd.set_option('display.max_row()',None)\n",
    "indi = {'00':'occupation',\n",
    "        '11' :'Management',\n",
    "        '13' :'Business and Financial Operations',\n",
    "        '15' :'Computer and Mathematical',\n",
    "        '17' :'Architecture and Engineering',\n",
    "        '19' :'Life, Physical, and Social Science',\n",
    "        '21' :'Community and Social Service',\n",
    "        '23' :'Legal',\n",
    "        '25' :'Educational Instruction and Library',\n",
    "        '27' :'Arts, Design, Entertainment, Sports, and Media',\n",
    "        '29' :'Healthcare Practitioners and Technical',\n",
    "        '31' :'Healthcare Support',\n",
    "        '33' :'Protective Service',\n",
    "        '35' :'Food Preparation and Serving Related',\n",
    "        '37' :'Building and Grounds Cleaning and Maintenance',\n",
    "        '39' :'Personal Care and Service',\n",
    "        '41' :'Sales and Related',\n",
    "        '43' :'Office and Administrative Support',\n",
    "        '45' :'Farming, Fishing, and Forestry',\n",
    "        '47' :'Construction and Extraction',\n",
    "        '49' :'Installation, Maintenance, and Repair',\n",
    "        '51' :'Production',\n",
    "        '53' :'Transportation and Material Moving'}\n",
    "oc_df['JOB_CLASS'].replace(indi, inplace = True)"
   ]
  },
  {
   "cell_type": "code",
   "execution_count": 45,
   "metadata": {},
   "outputs": [
    {
     "data": {
      "text/html": [
       "<div>\n",
       "<style scoped>\n",
       "    .dataframe tbody tr th:only-of-type {\n",
       "        vertical-align: middle;\n",
       "    }\n",
       "\n",
       "    .dataframe tbody tr th {\n",
       "        vertical-align: top;\n",
       "    }\n",
       "\n",
       "    .dataframe thead th {\n",
       "        text-align: right;\n",
       "    }\n",
       "</style>\n",
       "<table border=\"1\" class=\"dataframe\">\n",
       "  <thead>\n",
       "    <tr style=\"text-align: right;\">\n",
       "      <th></th>\n",
       "      <th>STATE</th>\n",
       "      <th>OCC_CODE</th>\n",
       "      <th>OCC_TITLE</th>\n",
       "      <th>A_MEDIAN</th>\n",
       "      <th>JOB_CLASS</th>\n",
       "    </tr>\n",
       "  </thead>\n",
       "  <tbody>\n",
       "    <tr>\n",
       "      <td>0</td>\n",
       "      <td>Alabama</td>\n",
       "      <td>00-0000</td>\n",
       "      <td>All Occupations</td>\n",
       "      <td>32800</td>\n",
       "      <td>occupation</td>\n",
       "    </tr>\n",
       "    <tr>\n",
       "      <td>1</td>\n",
       "      <td>Alabama</td>\n",
       "      <td>11-0000</td>\n",
       "      <td>Management Occupations</td>\n",
       "      <td>96980</td>\n",
       "      <td>Management</td>\n",
       "    </tr>\n",
       "    <tr>\n",
       "      <td>2</td>\n",
       "      <td>Alabama</td>\n",
       "      <td>11-1011</td>\n",
       "      <td>Chief Executives</td>\n",
       "      <td>196460</td>\n",
       "      <td>Management</td>\n",
       "    </tr>\n",
       "    <tr>\n",
       "      <td>3</td>\n",
       "      <td>Alabama</td>\n",
       "      <td>11-1021</td>\n",
       "      <td>General and Operations Managers</td>\n",
       "      <td>102320</td>\n",
       "      <td>Management</td>\n",
       "    </tr>\n",
       "    <tr>\n",
       "      <td>4</td>\n",
       "      <td>Alabama</td>\n",
       "      <td>11-1031</td>\n",
       "      <td>Legislators</td>\n",
       "      <td>18910</td>\n",
       "      <td>Management</td>\n",
       "    </tr>\n",
       "  </tbody>\n",
       "</table>\n",
       "</div>"
      ],
      "text/plain": [
       "     STATE OCC_CODE                        OCC_TITLE A_MEDIAN   JOB_CLASS\n",
       "0  Alabama  00-0000                  All Occupations    32800  occupation\n",
       "1  Alabama  11-0000           Management Occupations    96980  Management\n",
       "2  Alabama  11-1011                 Chief Executives   196460  Management\n",
       "3  Alabama  11-1021  General and Operations Managers   102320  Management\n",
       "4  Alabama  11-1031                      Legislators    18910  Management"
      ]
     },
     "execution_count": 45,
     "metadata": {},
     "output_type": "execute_result"
    }
   ],
   "source": [
    "oc_df.head()"
   ]
  },
  {
   "cell_type": "code",
   "execution_count": 46,
   "metadata": {},
   "outputs": [
    {
     "data": {
      "text/plain": [
       "61665.16177577126"
      ]
     },
     "execution_count": 46,
     "metadata": {},
     "output_type": "execute_result"
    }
   ],
   "source": [
    "df3['a_mean'] = df3['a_mean'].astype(str).map(lambda y: y.replace('*' ,'58525')).astype(int)\n",
    "#[x for x in df3['a_mean'] if not '*' in x]\n",
    "df3['a_mean'].mean()"
   ]
  },
  {
   "cell_type": "code",
   "execution_count": 47,
   "metadata": {},
   "outputs": [
    {
     "data": {
      "text/plain": [
       "0"
      ]
     },
     "execution_count": 47,
     "metadata": {},
     "output_type": "execute_result"
    }
   ],
   "source": [
    "df3.isnull().sum().sum()"
   ]
  },
  {
   "cell_type": "code",
   "execution_count": 48,
   "metadata": {},
   "outputs": [],
   "source": [
    "def supress(X):\n",
    "    for j in range(len(X)):\n",
    "        for i in X:\n",
    "            if i in ['*','**','#']:\n",
    "                X.drop( X.index[j], inplace = True)\n",
    "            else :\n",
    "                return X\n"
   ]
  },
  {
   "cell_type": "code",
   "execution_count": 49,
   "metadata": {},
   "outputs": [],
   "source": [
    "def convert_data(val):\n",
    "    #for i in val: \n",
    "        #if i in [\"*\",\"**\",\"#\"]:\n",
    "        new_val=val.replace([\"*\",\"**\",\"#\"],49784)\n",
    "        return new_val\n",
    "oc_df['A_MEDIAN']= convert_data(oc_df['A_MEDIAN'])"
   ]
  },
  {
   "cell_type": "code",
   "execution_count": 50,
   "metadata": {},
   "outputs": [],
   "source": [
    "#oc_df['A_MEDIAN'].astype(str).replace(\"*\",0, inplace = True)"
   ]
  },
  {
   "cell_type": "code",
   "execution_count": 51,
   "metadata": {},
   "outputs": [
    {
     "data": {
      "text/plain": [
       "51054.5570934256"
      ]
     },
     "execution_count": 51,
     "metadata": {},
     "output_type": "execute_result"
    }
   ],
   "source": [
    "oc_df['A_MEDIAN'].mean()"
   ]
  },
  {
   "cell_type": "code",
   "execution_count": null,
   "metadata": {},
   "outputs": [],
   "source": []
  },
  {
   "cell_type": "code",
   "execution_count": null,
   "metadata": {},
   "outputs": [],
   "source": []
  },
  {
   "cell_type": "code",
   "execution_count": null,
   "metadata": {},
   "outputs": [],
   "source": []
  },
  {
   "cell_type": "code",
   "execution_count": null,
   "metadata": {},
   "outputs": [],
   "source": []
  }
 ],
 "metadata": {
  "kernelspec": {
   "display_name": "Python 3",
   "language": "python",
   "name": "python3"
  },
  "language_info": {
   "codemirror_mode": {
    "name": "ipython",
    "version": 3
   },
   "file_extension": ".py",
   "mimetype": "text/x-python",
   "name": "python",
   "nbconvert_exporter": "python",
   "pygments_lexer": "ipython3",
   "version": "3.7.4"
  }
 },
 "nbformat": 4,
 "nbformat_minor": 4
}
